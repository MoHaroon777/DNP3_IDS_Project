{
 "cells": [
  {
   "cell_type": "code",
   "execution_count": null,
   "id": "8da2abb7",
   "metadata": {},
   "outputs": [],
   "source": [
    "import pandas as pd\n",
    "\n",
    "df = pd.read_csv(\"C:\\Users\\colij\\Final_Year\\Semester 8\\Project\\DNP3_Intrusion_Detection_Dataset_Final\\20200515_DNP3_Cold_Restart_Attack\\CSV Files\\120_timeout\\LABELED\\DNP3_parser_Labeled\\20200515_DNP3_Cold_Restart_Attack_UOWM_DNP3_Dataset_Attacker_01.pcapDNP3_FLOWLABELED.csv\")\n",
    "\n",
    "df.head()"
   ]
  }
 ],
 "metadata": {
  "kernelspec": {
   "display_name": "Python 3",
   "language": "python",
   "name": "python3"
  },
  "language_info": {
   "name": "python",
   "version": "3.13.0"
  }
 },
 "nbformat": 4,
 "nbformat_minor": 5
}
